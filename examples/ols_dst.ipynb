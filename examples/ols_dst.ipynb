{
 "cells": [
  {
   "cell_type": "code",
   "execution_count": 1,
   "metadata": {},
   "outputs": [
    {
     "name": "stderr",
     "output_type": "stream",
     "text": [
      "Failed to detect the name of this notebook, you can set it manually with the WANDB_NOTEBOOK_NAME environment variable to enable code saving.\n",
      "\u001b[34m\u001b[1mwandb\u001b[0m: Currently logged in as: \u001b[33mt-lautenbacher\u001b[0m (\u001b[33mthomas_lautenbacher\u001b[0m). Use \u001b[1m`wandb login --relogin`\u001b[0m to force relogin\n"
     ]
    },
    {
     "data": {
      "text/html": [
       "Tracking run with wandb version 0.17.0"
      ],
      "text/plain": [
       "<IPython.core.display.HTML object>"
      ]
     },
     "metadata": {},
     "output_type": "display_data"
    },
    {
     "data": {
      "text/html": [
       "Run data is saved locally in <code>c:\\Users\\thoma\\MA\\morl-baselines\\examples\\wandb\\run-20240606_122006-3kdamwxr</code>"
      ],
      "text/plain": [
       "<IPython.core.display.HTML object>"
      ]
     },
     "metadata": {},
     "output_type": "display_data"
    },
    {
     "data": {
      "text/html": [
       "Syncing run <strong><a href='https://wandb.ai/thomas_lautenbacher/MORL-Baselines/runs/3kdamwxr' target=\"_blank\">deep-sea-treasure-v0__MultiPolicy MO Q-Learning__None__1717669204</a></strong> to <a href='https://wandb.ai/thomas_lautenbacher/MORL-Baselines' target=\"_blank\">Weights & Biases</a> (<a href='https://wandb.me/run' target=\"_blank\">docs</a>)<br/>"
      ],
      "text/plain": [
       "<IPython.core.display.HTML object>"
      ]
     },
     "metadata": {},
     "output_type": "display_data"
    },
    {
     "data": {
      "text/html": [
       " View project at <a href='https://wandb.ai/thomas_lautenbacher/MORL-Baselines' target=\"_blank\">https://wandb.ai/thomas_lautenbacher/MORL-Baselines</a>"
      ],
      "text/plain": [
       "<IPython.core.display.HTML object>"
      ]
     },
     "metadata": {},
     "output_type": "display_data"
    },
    {
     "data": {
      "text/html": [
       " View run at <a href='https://wandb.ai/thomas_lautenbacher/MORL-Baselines/runs/3kdamwxr' target=\"_blank\">https://wandb.ai/thomas_lautenbacher/MORL-Baselines/runs/3kdamwxr</a>"
      ],
      "text/plain": [
       "<IPython.core.display.HTML object>"
      ]
     },
     "metadata": {},
     "output_type": "display_data"
    },
    {
     "data": {
      "text/html": [
       " View run <strong style=\"color:#cdcd00\">deep-sea-treasure-v0__MultiPolicy MO Q-Learning__None__1717669204</strong> at: <a href='https://wandb.ai/thomas_lautenbacher/MORL-Baselines/runs/3kdamwxr' target=\"_blank\">https://wandb.ai/thomas_lautenbacher/MORL-Baselines/runs/3kdamwxr</a><br/> View project at: <a href='https://wandb.ai/thomas_lautenbacher/MORL-Baselines' target=\"_blank\">https://wandb.ai/thomas_lautenbacher/MORL-Baselines</a><br/>Synced 5 W&B file(s), 0 media file(s), 0 artifact file(s) and 0 other file(s)"
      ],
      "text/plain": [
       "<IPython.core.display.HTML object>"
      ]
     },
     "metadata": {},
     "output_type": "display_data"
    },
    {
     "data": {
      "text/html": [
       "Find logs at: <code>.\\wandb\\run-20240606_122006-3kdamwxr\\logs</code>"
      ],
      "text/plain": [
       "<IPython.core.display.HTML object>"
      ]
     },
     "metadata": {},
     "output_type": "display_data"
    }
   ],
   "source": [
    "import mo_gymnasium as mo_gym\n",
    "import numpy as np\n",
    "\n",
    "from morl_baselines.multi_policy.multi_policy_moqlearning.mp_mo_q_learning import (\n",
    "    MPMOQLearning,\n",
    ")\n",
    "\n",
    "\n",
    "def main():\n",
    "    GAMMA = 0.99\n",
    "    env = mo_gym.MORecordEpisodeStatistics(mo_gym.make(\"deep-sea-treasure-v0\"), gamma=GAMMA)\n",
    "\n",
    "    eval_env = mo_gym.make(\"deep-sea-treasure-v0\")\n",
    "\n",
    "    mp_moql = MPMOQLearning(\n",
    "        env,\n",
    "        learning_rate=0.3,\n",
    "        gamma=GAMMA,\n",
    "        use_gpi_policy=True,\n",
    "        dyna=True,\n",
    "        dyna_updates=5,\n",
    "        initial_epsilon=1,\n",
    "        final_epsilon=0.01,\n",
    "        epsilon_decay_steps=int(2e5),\n",
    "        weight_selection_algo=\"ols\",\n",
    "        epsilon_ols=0.0,\n",
    "    )\n",
    "    mp_moql.train(\n",
    "        total_timesteps=15 * int(2e2),\n",
    "        eval_env=eval_env,\n",
    "        ref_point=np.array([0.0, -25.0]),\n",
    "        known_pareto_front=env.unwrapped.pareto_front(gamma=GAMMA),\n",
    "        timesteps_per_iteration=int(2e5),\n",
    "        eval_freq=100,\n",
    "    )\n",
    "\n",
    "\n",
    "if __name__ == \"__main__\":\n",
    "    main()"
   ]
  },
  {
   "cell_type": "code",
   "execution_count": null,
   "metadata": {},
   "outputs": [],
   "source": []
  }
 ],
 "metadata": {
  "kernelspec": {
   "display_name": "MORL_baseline",
   "language": "python",
   "name": "python3"
  },
  "language_info": {
   "codemirror_mode": {
    "name": "ipython",
    "version": 3
   },
   "file_extension": ".py",
   "mimetype": "text/x-python",
   "name": "python",
   "nbconvert_exporter": "python",
   "pygments_lexer": "ipython3",
   "version": "3.12.3"
  }
 },
 "nbformat": 4,
 "nbformat_minor": 2
}
