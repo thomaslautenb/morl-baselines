{
 "cells": [
  {
   "cell_type": "code",
   "execution_count": 1,
   "metadata": {},
   "outputs": [],
   "source": [
    "import mo_gymnasium as mo_gym\n",
    "import numpy as np\n",
    "from mo_gymnasium.utils import MORecordEpisodeStatistics\n",
    "\n",
    "from morl_baselines.multi_policy.envelope.envelope import Envelope\n"
   ]
  },
  {
   "cell_type": "markdown",
   "metadata": {},
   "source": []
  },
  {
   "cell_type": "code",
   "execution_count": 2,
   "metadata": {},
   "outputs": [],
   "source": [
    "def make_env():\n",
    "    env = mo_gym.make(\"minecart-v0\")\n",
    "    env = MORecordEpisodeStatistics(env, gamma=0.98)\n",
    "        # env = mo_gym.LinearReward(env)\n",
    "    return env\n",
    "\n",
    "env = make_env()\n",
    "eval_env = make_env()"
   ]
  },
  {
   "cell_type": "code",
   "execution_count": 3,
   "metadata": {},
   "outputs": [],
   "source": [
    "obs, _ =  env.reset()"
   ]
  },
  {
   "cell_type": "code",
   "execution_count": 4,
   "metadata": {},
   "outputs": [],
   "source": [
    "initial_action = 0\n",
    "obs, reward, terminated, tranctuated, info = env.step(action=initial_action)\n"
   ]
  },
  {
   "cell_type": "code",
   "execution_count": 5,
   "metadata": {},
   "outputs": [
    {
     "data": {
      "text/plain": [
       "array([ 0.  ,  0.  , -0.22], dtype=float32)"
      ]
     },
     "execution_count": 5,
     "metadata": {},
     "output_type": "execute_result"
    }
   ],
   "source": [
    "reward"
   ]
  },
  {
   "cell_type": "code",
   "execution_count": 6,
   "metadata": {},
   "outputs": [
    {
     "name": "stderr",
     "output_type": "stream",
     "text": [
      "Failed to detect the name of this notebook, you can set it manually with the WANDB_NOTEBOOK_NAME environment variable to enable code saving.\n",
      "\u001b[34m\u001b[1mwandb\u001b[0m: Currently logged in as: \u001b[33mt-lautenbacher\u001b[0m (\u001b[33mthomas_lautenbacher\u001b[0m). Use \u001b[1m`wandb login --relogin`\u001b[0m to force relogin\n"
     ]
    },
    {
     "data": {
      "text/html": [
       "Tracking run with wandb version 0.17.0"
      ],
      "text/plain": [
       "<IPython.core.display.HTML object>"
      ]
     },
     "metadata": {},
     "output_type": "display_data"
    },
    {
     "data": {
      "text/html": [
       "Run data is saved locally in <code>c:\\Users\\thoma\\MA\\morl-baselines\\examples\\wandb\\run-20240606_120826-qa84l1u2</code>"
      ],
      "text/plain": [
       "<IPython.core.display.HTML object>"
      ]
     },
     "metadata": {},
     "output_type": "display_data"
    },
    {
     "data": {
      "text/html": [
       "Syncing run <strong><a href='https://wandb.ai/thomas_lautenbacher/MORL-Baselines/runs/qa84l1u2' target=\"_blank\">minecart-v0__Envelope__None__1717668503</a></strong> to <a href='https://wandb.ai/thomas_lautenbacher/MORL-Baselines' target=\"_blank\">Weights & Biases</a> (<a href='https://wandb.me/run' target=\"_blank\">docs</a>)<br/>"
      ],
      "text/plain": [
       "<IPython.core.display.HTML object>"
      ]
     },
     "metadata": {},
     "output_type": "display_data"
    },
    {
     "data": {
      "text/html": [
       " View project at <a href='https://wandb.ai/thomas_lautenbacher/MORL-Baselines' target=\"_blank\">https://wandb.ai/thomas_lautenbacher/MORL-Baselines</a>"
      ],
      "text/plain": [
       "<IPython.core.display.HTML object>"
      ]
     },
     "metadata": {},
     "output_type": "display_data"
    },
    {
     "data": {
      "text/html": [
       " View run at <a href='https://wandb.ai/thomas_lautenbacher/MORL-Baselines/runs/qa84l1u2' target=\"_blank\">https://wandb.ai/thomas_lautenbacher/MORL-Baselines/runs/qa84l1u2</a>"
      ],
      "text/plain": [
       "<IPython.core.display.HTML object>"
      ]
     },
     "metadata": {},
     "output_type": "display_data"
    }
   ],
   "source": [
    "agent = Envelope(\n",
    "        env,\n",
    "        max_grad_norm=0.1,\n",
    "        learning_rate=3e-4,\n",
    "        gamma=0.98,\n",
    "        batch_size=64,\n",
    "        net_arch=[256, 256, 256, 256],\n",
    "        buffer_size=int(2e6),\n",
    "        initial_epsilon=1.0,\n",
    "        final_epsilon=0.05,\n",
    "        epsilon_decay_steps=50000,\n",
    "        initial_homotopy_lambda=0.0,\n",
    "        final_homotopy_lambda=1.0,\n",
    "        homotopy_decay_steps=10000,\n",
    "        learning_starts=100,\n",
    "        envelope=True,\n",
    "        gradient_updates=1,\n",
    "        target_net_update_freq=1000,  # 1000,  # 500 reduce by gradient updates\n",
    "        tau=1,\n",
    "        log=True,\n",
    "        project_name=\"MORL-Baselines\",\n",
    "        experiment_name=\"Envelope\",\n",
    "    )\n"
   ]
  },
  {
   "cell_type": "code",
   "execution_count": 7,
   "metadata": {},
   "outputs": [],
   "source": [
    "agent.train(\n",
    "        total_timesteps=100,\n",
    "        total_episodes=None,\n",
    "        weight=None,\n",
    "        eval_env=eval_env,\n",
    "        ref_point=np.array([0, 0, -200.0]),\n",
    "        known_pareto_front=env.unwrapped.pareto_front(gamma=0.98),\n",
    "        num_eval_weights_for_front=100,\n",
    "        eval_freq=1000,\n",
    "        reset_num_timesteps=False,\n",
    "        reset_learning_starts=False,\n",
    "    )"
   ]
  },
  {
   "cell_type": "code",
   "execution_count": 8,
   "metadata": {},
   "outputs": [
    {
     "data": {
      "text/plain": [
       "array([ 0.  ,  0.  , -0.22], dtype=float32)"
      ]
     },
     "execution_count": 8,
     "metadata": {},
     "output_type": "execute_result"
    }
   ],
   "source": []
  },
  {
   "cell_type": "code",
   "execution_count": null,
   "metadata": {},
   "outputs": [],
   "source": []
  }
 ],
 "metadata": {
  "kernelspec": {
   "display_name": "MORL_baseline",
   "language": "python",
   "name": "python3"
  },
  "language_info": {
   "codemirror_mode": {
    "name": "ipython",
    "version": 3
   },
   "file_extension": ".py",
   "mimetype": "text/x-python",
   "name": "python",
   "nbconvert_exporter": "python",
   "pygments_lexer": "ipython3",
   "version": "3.12.3"
  }
 },
 "nbformat": 4,
 "nbformat_minor": 2
}
