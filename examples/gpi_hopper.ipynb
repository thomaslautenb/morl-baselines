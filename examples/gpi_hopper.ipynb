{
 "cells": [
  {
   "cell_type": "code",
   "execution_count": 1,
   "metadata": {},
   "outputs": [],
   "source": [
    "import fire\n",
    "import mo_gymnasium as mo_gym\n",
    "import numpy as np\n",
    "\n",
    "from morl_baselines.multi_policy.gpi_pd.gpi_pd_continuous_action import (\n",
    "    GPIPDContinuousAction,\n",
    ")\n",
    "\n",
    "\n",
    "from gymnasium.wrappers.record_video import RecordVideo\n"
   ]
  },
  {
   "cell_type": "code",
   "execution_count": 2,
   "metadata": {},
   "outputs": [
    {
     "name": "stderr",
     "output_type": "stream",
     "text": [
      "c:\\Users\\thoma\\anaconda3\\envs\\MORL_baseline\\Lib\\site-packages\\gymnasium\\wrappers\\record_video.py:94: UserWarning: WARN: Overwriting existing videos at c:\\Users\\thoma\\MA\\morl-baselines\\examples\\videos\\minecart folder (try specifying a different `video_folder` for the `RecordVideo` wrapper if this is not desired)\n",
      "  logger.warn(\n"
     ]
    },
    {
     "data": {
      "text/plain": [
       "<RecordVideo<TimeLimit<OrderEnforcing<MOHopperEnv<mo-hopper-v4>>>>>"
      ]
     },
     "execution_count": 2,
     "metadata": {},
     "output_type": "execute_result"
    }
   ],
   "source": [
    "def make_env(record_episode_statistics: bool = False):\n",
    "    env = mo_gym.make(\"mo-hopper-v4\", cost_objective=False, max_episode_steps=500, render_mode='rgb_array')\n",
    "    if record_episode_statistics:\n",
    "        env = mo_gym.MORecordEpisodeStatistics(env, gamma=0.99)\n",
    "    return env\n",
    "\n",
    "env = make_env(record_episode_statistics=True)\n",
    "eval_env = make_env()  \n",
    "RecordVideo(make_env(), \"videos/minecart/\", episode_trigger=lambda e: e % 1000 == 0)\n"
   ]
  },
  {
   "cell_type": "code",
   "execution_count": 3,
   "metadata": {},
   "outputs": [],
   "source": [
    "timesteps_per_iter = 10\n"
   ]
  },
  {
   "cell_type": "code",
   "execution_count": 4,
   "metadata": {},
   "outputs": [
    {
     "name": "stderr",
     "output_type": "stream",
     "text": [
      "Failed to detect the name of this notebook, you can set it manually with the WANDB_NOTEBOOK_NAME environment variable to enable code saving.\n",
      "wandb: Currently logged in as: t-lautenbacher (thomas_lautenbacher). Use `wandb login --relogin` to force relogin\n"
     ]
    },
    {
     "data": {
      "text/html": [
       "Tracking run with wandb version 0.17.0"
      ],
      "text/plain": [
       "<IPython.core.display.HTML object>"
      ]
     },
     "metadata": {},
     "output_type": "display_data"
    },
    {
     "data": {
      "text/html": [
       "Run data is saved locally in <code>c:\\Users\\thoma\\MA\\morl-baselines\\examples\\wandb\\run-20240604_142104-kq7fthfv</code>"
      ],
      "text/plain": [
       "<IPython.core.display.HTML object>"
      ]
     },
     "metadata": {},
     "output_type": "display_data"
    },
    {
     "data": {
      "text/html": [
       "Syncing run <strong><a href='https://wandb.ai/thomas_lautenbacher/MORL-Baselines/runs/kq7fthfv' target=\"_blank\">mo-hopper-v4__GPI-PD__None__1717503660</a></strong> to <a href='https://wandb.ai/thomas_lautenbacher/MORL-Baselines' target=\"_blank\">Weights & Biases</a> (<a href='https://wandb.me/run' target=\"_blank\">docs</a>)<br/>"
      ],
      "text/plain": [
       "<IPython.core.display.HTML object>"
      ]
     },
     "metadata": {},
     "output_type": "display_data"
    },
    {
     "data": {
      "text/html": [
       " View project at <a href='https://wandb.ai/thomas_lautenbacher/MORL-Baselines' target=\"_blank\">https://wandb.ai/thomas_lautenbacher/MORL-Baselines</a>"
      ],
      "text/plain": [
       "<IPython.core.display.HTML object>"
      ]
     },
     "metadata": {},
     "output_type": "display_data"
    },
    {
     "data": {
      "text/html": [
       " View run at <a href='https://wandb.ai/thomas_lautenbacher/MORL-Baselines/runs/kq7fthfv' target=\"_blank\">https://wandb.ai/thomas_lautenbacher/MORL-Baselines/runs/kq7fthfv</a>"
      ],
      "text/plain": [
       "<IPython.core.display.HTML object>"
      ]
     },
     "metadata": {},
     "output_type": "display_data"
    }
   ],
   "source": [
    "\n",
    "agent = GPIPDContinuousAction(\n",
    "        env,\n",
    "        min_priority=0.1,\n",
    "        batch_size=128,\n",
    "        buffer_size=int(4e5),\n",
    "        dynamics_rollout_starts=1000,\n",
    "        dynamics_rollout_len=5,\n",
    "        dynamics_rollout_freq=250,\n",
    "        dynamics_rollout_batch_size=50000,\n",
    "        dynamics_train_freq=250,\n",
    "        dynamics_buffer_size=200000,\n",
    "        dynamics_real_ratio=0.1,\n",
    "        dynamics_min_uncertainty=2.0,\n",
    "        project_name=\"MORL-Baselines\",\n",
    "        experiment_name=\"GPI-PD\",\n",
    "        log=True,\n",
    "    )\n"
   ]
  },
  {
   "cell_type": "code",
   "execution_count": 5,
   "metadata": {},
   "outputs": [
    {
     "name": "stdout",
     "output_type": "stream",
     "text": [
      "CCS: [] CCS size: 0\n",
      "Next weight: [1. 0.]\n",
      "Next weight vector: [1. 0.]\n",
      "Adding value: [21.4468 17.9012] to CCS.\n"
     ]
    },
    {
     "ename": "AttributeError",
     "evalue": "module 'cdd' has no attribute 'Matrix'",
     "output_type": "error",
     "traceback": [
      "\u001b[1;31m---------------------------------------------------------------------------\u001b[0m",
      "\u001b[1;31mAttributeError\u001b[0m                            Traceback (most recent call last)",
      "Cell \u001b[1;32mIn[5], line 1\u001b[0m\n\u001b[1;32m----> 1\u001b[0m \u001b[43magent\u001b[49m\u001b[38;5;241;43m.\u001b[39;49m\u001b[43mtrain\u001b[49m\u001b[43m(\u001b[49m\n\u001b[0;32m      2\u001b[0m \u001b[43m        \u001b[49m\u001b[43mtotal_timesteps\u001b[49m\u001b[38;5;241;43m=\u001b[39;49m\u001b[38;5;241;43m10\u001b[39;49m\u001b[43m \u001b[49m\u001b[38;5;241;43m*\u001b[39;49m\u001b[43m \u001b[49m\u001b[43mtimesteps_per_iter\u001b[49m\u001b[43m,\u001b[49m\n\u001b[0;32m      3\u001b[0m \u001b[43m        \u001b[49m\u001b[43meval_env\u001b[49m\u001b[38;5;241;43m=\u001b[39;49m\u001b[43meval_env\u001b[49m\u001b[43m,\u001b[49m\n\u001b[0;32m      4\u001b[0m \u001b[43m        \u001b[49m\u001b[43mref_point\u001b[49m\u001b[38;5;241;43m=\u001b[39;49m\u001b[43mnp\u001b[49m\u001b[38;5;241;43m.\u001b[39;49m\u001b[43marray\u001b[49m\u001b[43m(\u001b[49m\u001b[43m[\u001b[49m\u001b[38;5;241;43m-\u001b[39;49m\u001b[38;5;241;43m100.0\u001b[39;49m\u001b[43m,\u001b[49m\u001b[43m \u001b[49m\u001b[38;5;241;43m-\u001b[39;49m\u001b[38;5;241;43m100.0\u001b[39;49m\u001b[43m]\u001b[49m\u001b[43m)\u001b[49m\u001b[43m,\u001b[49m\n\u001b[0;32m      5\u001b[0m \u001b[43m        \u001b[49m\u001b[43mknown_pareto_front\u001b[49m\u001b[38;5;241;43m=\u001b[39;49m\u001b[38;5;28;43;01mNone\u001b[39;49;00m\u001b[43m,\u001b[49m\n\u001b[0;32m      6\u001b[0m \u001b[43m        \u001b[49m\u001b[43mweight_selection_algo\u001b[49m\u001b[38;5;241;43m=\u001b[39;49m\u001b[38;5;124;43m'\u001b[39;49m\u001b[38;5;124;43mols\u001b[39;49m\u001b[38;5;124;43m'\u001b[39;49m\u001b[43m,\u001b[49m\n\u001b[0;32m      7\u001b[0m \u001b[43m        \u001b[49m\u001b[43mtimesteps_per_iter\u001b[49m\u001b[38;5;241;43m=\u001b[39;49m\u001b[43mtimesteps_per_iter\u001b[49m\u001b[43m,\u001b[49m\n\u001b[0;32m      8\u001b[0m \u001b[43m    \u001b[49m\u001b[43m)\u001b[49m\n",
      "File \u001b[1;32mc:\\Users\\thoma\\anaconda3\\envs\\MORL_baseline\\Lib\\site-packages\\morl_baselines\\multi_policy\\gpi_pd\\gpi_pd_continuous_action.py:651\u001b[0m, in \u001b[0;36mGPIPDContinuousAction.train\u001b[1;34m(self, total_timesteps, eval_env, ref_point, known_pareto_front, num_eval_weights_for_front, num_eval_episodes_for_front, num_eval_weights_for_eval, weight_selection_algo, timesteps_per_iter, eval_freq, eval_mo_freq, checkpoints)\u001b[0m\n\u001b[0;32m    649\u001b[0m     \u001b[38;5;28mself\u001b[39m\u001b[38;5;241m.\u001b[39muse_gpi \u001b[38;5;241m=\u001b[39m use_gpi\n\u001b[0;32m    650\u001b[0m \u001b[38;5;28;01melse\u001b[39;00m:\n\u001b[1;32m--> 651\u001b[0m     w \u001b[38;5;241m=\u001b[39m \u001b[43mlinear_support\u001b[49m\u001b[38;5;241;43m.\u001b[39;49m\u001b[43mnext_weight\u001b[49m\u001b[43m(\u001b[49m\u001b[43malgo\u001b[49m\u001b[38;5;241;43m=\u001b[39;49m\u001b[38;5;124;43m\"\u001b[39;49m\u001b[38;5;124;43mols\u001b[39;49m\u001b[38;5;124;43m\"\u001b[39;49m\u001b[43m)\u001b[49m\n\u001b[0;32m    653\u001b[0m \u001b[38;5;28;01mif\u001b[39;00m w \u001b[38;5;129;01mis\u001b[39;00m \u001b[38;5;28;01mNone\u001b[39;00m:\n\u001b[0;32m    654\u001b[0m     \u001b[38;5;28;01mbreak\u001b[39;00m\n",
      "File \u001b[1;32mc:\\Users\\thoma\\anaconda3\\envs\\MORL_baseline\\Lib\\site-packages\\morl_baselines\\multi_policy\\linear_support\\linear_support.py:73\u001b[0m, in \u001b[0;36mLinearSupport.next_weight\u001b[1;34m(self, algo, gpi_agent, env, rep_eval)\u001b[0m\n\u001b[0;32m     61\u001b[0m \u001b[38;5;250m\u001b[39m\u001b[38;5;124;03m\"\"\"Returns the next weight vector with highest priority.\u001b[39;00m\n\u001b[0;32m     62\u001b[0m \n\u001b[0;32m     63\u001b[0m \u001b[38;5;124;03mArgs:\u001b[39;00m\n\u001b[1;32m   (...)\u001b[0m\n\u001b[0;32m     70\u001b[0m \u001b[38;5;124;03m    np.ndarray: Next weight vector\u001b[39;00m\n\u001b[0;32m     71\u001b[0m \u001b[38;5;124;03m\"\"\"\u001b[39;00m\n\u001b[0;32m     72\u001b[0m \u001b[38;5;28;01mif\u001b[39;00m \u001b[38;5;28mlen\u001b[39m(\u001b[38;5;28mself\u001b[39m\u001b[38;5;241m.\u001b[39mccs) \u001b[38;5;241m>\u001b[39m \u001b[38;5;241m0\u001b[39m:\n\u001b[1;32m---> 73\u001b[0m     W_corner \u001b[38;5;241m=\u001b[39m \u001b[38;5;28;43mself\u001b[39;49m\u001b[38;5;241;43m.\u001b[39;49m\u001b[43mcompute_corner_weights\u001b[49m\u001b[43m(\u001b[49m\u001b[43m)\u001b[49m\n\u001b[0;32m     74\u001b[0m     \u001b[38;5;28;01mif\u001b[39;00m \u001b[38;5;28mself\u001b[39m\u001b[38;5;241m.\u001b[39mverbose:\n\u001b[0;32m     75\u001b[0m         \u001b[38;5;28mprint\u001b[39m(\u001b[38;5;124m\"\u001b[39m\u001b[38;5;124mW_corner:\u001b[39m\u001b[38;5;124m\"\u001b[39m, W_corner, \u001b[38;5;124m\"\u001b[39m\u001b[38;5;124mW_corner size:\u001b[39m\u001b[38;5;124m\"\u001b[39m, \u001b[38;5;28mlen\u001b[39m(W_corner))\n",
      "File \u001b[1;32mc:\\Users\\thoma\\anaconda3\\envs\\MORL_baseline\\Lib\\site-packages\\morl_baselines\\multi_policy\\linear_support\\linear_support.py:353\u001b[0m, in \u001b[0;36mLinearSupport.compute_corner_weights\u001b[1;34m(self)\u001b[0m\n\u001b[0;32m    350\u001b[0m             vertices\u001b[38;5;241m.\u001b[39mappend(V[i, \u001b[38;5;241m1\u001b[39m:])\n\u001b[0;32m    351\u001b[0m     \u001b[38;5;28;01mreturn\u001b[39;00m vertices\n\u001b[1;32m--> 353\u001b[0m vertices \u001b[38;5;241m=\u001b[39m \u001b[43mcompute_poly_vertices\u001b[49m\u001b[43m(\u001b[49m\u001b[43mA\u001b[49m\u001b[43m,\u001b[49m\u001b[43m \u001b[49m\u001b[43mb\u001b[49m\u001b[43m)\u001b[49m\n\u001b[0;32m    354\u001b[0m corners \u001b[38;5;241m=\u001b[39m []\n\u001b[0;32m    355\u001b[0m \u001b[38;5;28;01mfor\u001b[39;00m v \u001b[38;5;129;01min\u001b[39;00m vertices:\n",
      "File \u001b[1;32mc:\\Users\\thoma\\anaconda3\\envs\\MORL_baseline\\Lib\\site-packages\\morl_baselines\\multi_policy\\linear_support\\linear_support.py:340\u001b[0m, in \u001b[0;36mLinearSupport.compute_corner_weights.<locals>.compute_poly_vertices\u001b[1;34m(A, b)\u001b[0m\n\u001b[0;32m    337\u001b[0m \u001b[38;5;28;01mdef\u001b[39;00m \u001b[38;5;21mcompute_poly_vertices\u001b[39m(A, b):\n\u001b[0;32m    338\u001b[0m     \u001b[38;5;66;03m# Based on https://stackoverflow.com/questions/65343771/solve-linear-inequalities\u001b[39;00m\n\u001b[0;32m    339\u001b[0m     b \u001b[38;5;241m=\u001b[39m b\u001b[38;5;241m.\u001b[39mreshape((b\u001b[38;5;241m.\u001b[39mshape[\u001b[38;5;241m0\u001b[39m], \u001b[38;5;241m1\u001b[39m))\n\u001b[1;32m--> 340\u001b[0m     mat \u001b[38;5;241m=\u001b[39m \u001b[43mcdd\u001b[49m\u001b[38;5;241;43m.\u001b[39;49m\u001b[43mMatrix\u001b[49m(np\u001b[38;5;241m.\u001b[39mhstack([b, \u001b[38;5;241m-\u001b[39mA]), number_type\u001b[38;5;241m=\u001b[39m\u001b[38;5;124m\"\u001b[39m\u001b[38;5;124mfloat\u001b[39m\u001b[38;5;124m\"\u001b[39m)\n\u001b[0;32m    341\u001b[0m     mat\u001b[38;5;241m.\u001b[39mrep_type \u001b[38;5;241m=\u001b[39m cdd\u001b[38;5;241m.\u001b[39mRepType\u001b[38;5;241m.\u001b[39mINEQUALITY\n\u001b[0;32m    342\u001b[0m     P \u001b[38;5;241m=\u001b[39m cdd\u001b[38;5;241m.\u001b[39mPolyhedron(mat)\n",
      "\u001b[1;31mAttributeError\u001b[0m: module 'cdd' has no attribute 'Matrix'"
     ]
    }
   ],
   "source": [
    "\n",
    "agent.train(\n",
    "        total_timesteps=10 * timesteps_per_iter,\n",
    "        eval_env=eval_env,\n",
    "        ref_point=np.array([-100.0, -100.0]),\n",
    "        known_pareto_front=None,\n",
    "        weight_selection_algo='ols',\n",
    "        timesteps_per_iter=timesteps_per_iter,\n",
    "    )\n",
    "\n"
   ]
  },
  {
   "cell_type": "code",
   "execution_count": null,
   "metadata": {},
   "outputs": [],
   "source": []
  },
  {
   "cell_type": "code",
   "execution_count": null,
   "metadata": {},
   "outputs": [],
   "source": []
  },
  {
   "cell_type": "code",
   "execution_count": null,
   "metadata": {},
   "outputs": [],
   "source": []
  }
 ],
 "metadata": {
  "kernelspec": {
   "display_name": "MORL_baseline",
   "language": "python",
   "name": "python3"
  },
  "language_info": {
   "codemirror_mode": {
    "name": "ipython",
    "version": 3
   },
   "file_extension": ".py",
   "mimetype": "text/x-python",
   "name": "python",
   "nbconvert_exporter": "python",
   "pygments_lexer": "ipython3",
   "version": "3.12.3"
  }
 },
 "nbformat": 4,
 "nbformat_minor": 2
}
